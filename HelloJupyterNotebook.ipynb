{
 "cells": [
  {
   "cell_type": "markdown",
   "metadata": {
    "colab_type": "text",
    "id": "view-in-github"
   },
   "source": [
    "<a href=\"https://colab.research.google.com/github/anyoneai/notebooks/blob/main/HelloJupyterNotebook.ipynb\" target=\"_parent\"><img src=\"https://colab.research.google.com/assets/colab-badge.svg\" alt=\"Open In Colab\"/></a>"
   ]
  },
  {
   "cell_type": "markdown",
   "metadata": {
    "id": "Ifkuv77TXNVP"
   },
   "source": [
    "# Hello Jupyter!\n",
    "\n",
    "This is a simple python \"Hello Notebook\". This row or cell is a text cell that usually contains instructions and explenations for the code in subsequent cells. The cell below is a code cell. If you click on the \"Run/Play\" button it will execute the code in that cell. \n",
    "\n",
    "Go ahead, click on the \"Run\" button. If this is the first tie you run a an \"imported\" notebook, you will receive a permission request:\n",
    "\n",
    "![Github Warning](https://github.com/anyoneai/notebooks/raw/main/img/colab_warning.png)\n",
    "\n",
    "Go ahead and click on \"Run anyway\""
   ]
  },
  {
   "cell_type": "code",
   "execution_count": null,
   "metadata": {
    "id": "sbfR9xN2XKKk"
   },
   "outputs": [],
   "source": [
    "print(\"Hello Jupyter Notebook\")"
   ]
  },
  {
   "cell_type": "markdown",
   "metadata": {
    "id": "B46Dy2wQJGTn"
   },
   "source": [
    "Hopefully everything worked and you can see the text \"Hello Jupyter Notebook\" printed below the print statement.\n",
    "\n",
    "Next, lets try a little bit more complex \"Hello World\":"
   ]
  },
  {
   "cell_type": "code",
   "execution_count": null,
   "metadata": {
    "id": "ef0P-FqdJanM"
   },
   "outputs": [],
   "source": [
    "def hello_from_jupyter():\n",
    "  users_name = input(\"What is your name? \")\n",
    "  print(\"Hello %s\" % users_name)\n",
    "\n",
    "hello_from_jupyter()"
   ]
  },
  {
   "cell_type": "markdown",
   "metadata": {
    "id": "YeEuW7DcKWo7"
   },
   "source": [
    "The above cell defines and simple function that will ask for a name, will store the value that user provides in a variable and then prints it out as part of the \"Hello\" statement.\n",
    "\n",
    "For anybody with a programming background this is very simple and evident but it showcases the concept and power of editing and running code within a simple webpage.\n",
    "\n",
    "Before we wrap this up, go ahead and try to edit the code cell or the description/text cells to get the feel for how that works. Don't worry about messing anything up. When you imported the notebook you made a copy of it in Google Drive and if you want you can delete the HelloJupyterNotebook.ipynb and reimport any time.\n",
    "\n",
    "For now this is it. If you were able to run the cells you are all setup and  you can go back to the course!"
   ]
  }
 ],
 "metadata": {
  "colab": {
   "authorship_tag": "ABX9TyNh0NqmsCh4o20y7oe/zsZr",
   "collapsed_sections": [],
   "include_colab_link": true,
   "name": "HelloJupyterNotebook.ipynb",
   "provenance": []
  },
  "kernelspec": {
   "display_name": "Python 3 (ipykernel)",
   "language": "python",
   "name": "python3"
  },
  "language_info": {
   "codemirror_mode": {
    "name": "ipython",
    "version": 3
   },
   "file_extension": ".py",
   "mimetype": "text/x-python",
   "name": "python",
   "nbconvert_exporter": "python",
   "pygments_lexer": "ipython3",
   "version": "3.9.9"
  }
 },
 "nbformat": 4,
 "nbformat_minor": 1
}
