{
  "nbformat": 4,
  "nbformat_minor": 0,
  "metadata": {
    "colab": {
      "name": "customers_and_orders.ipynb",
      "provenance": [],
      "collapsed_sections": [],
      "authorship_tag": "ABX9TyNPWih96JaAdZwDzkK2BsOL"
    },
    "kernelspec": {
      "name": "python3",
      "display_name": "Python 3"
    },
    "language_info": {
      "name": "python"
    }
  },
  "cells": [
    {
      "cell_type": "markdown",
      "source": [
        "# Custiomers and Orders - The lifeblood of any business!\n",
        "\n",
        "This notebook depends on two data files: customers.scv and orders.csv. These files are hosted in github and, for simplicify, code to download and save the two files in the 'sample_data' folder is below.\n",
        "\n",
        "Please execute the first code cell before moving to the rest of the exercise.\n",
        "\n",
        "Also, be default the notebook has been opend in colab in \"read only\" mode. If you would like to persist your changes and code, please save it to your Google Drive by going to File/Save a Copy In Drive in the menu."
      ],
      "metadata": {
        "id": "piiX_CRNFYUi"
      }
    },
    {
      "cell_type": "code",
      "execution_count": 4,
      "metadata": {
        "id": "MWpVO242FQHC",
        "outputId": "b515a5a0-61e7-47fe-85ff-875b934f9813",
        "colab": {
          "base_uri": "https://localhost:8080/"
        }
      },
      "outputs": [
        {
          "output_type": "stream",
          "name": "stdout",
          "text": [
            "Customers and orders CSV files have been added './sample_data'\n"
          ]
        }
      ],
      "source": [
        "import requests\n",
        "\n",
        "def import_data_files():\n",
        "  r = requests.get('https://raw.githubusercontent.com/anyoneai/notebooks/main/customers_and_orders/data/customers.csv')\n",
        "  with open('./sample_data/customers.csv', 'wb') as f:\n",
        "    f.write(r.content)\n",
        "\n",
        "  r = requests.get('https://raw.githubusercontent.com/anyoneai/notebooks/main/customers_and_orders/data/orders.csv')\n",
        "  with open('./sample_data/orders.csv', 'wb') as f:\n",
        "    f.write(r.content)\n",
        "  \n",
        "import_data_files()\n",
        "print(\"Customers and orders CSV files have been added './sample_data'\")"
      ]
    },
    {
      "cell_type": "markdown",
      "source": [
        "# Customers\n",
        "\n",
        "The sample customer data in 'customers.csv' file has just 5 columns: CustomerId, First Name, Last Name, City and State\n",
        "\n",
        "As a first exercise, write some code to open the file and read the contents. Please refer to Section 7 in the [python3_crash_course notebook](https://colab.research.google.com/github/anyoneai/notebooks/blob/main/python3_crash_course.ipynb) if you need help.\n",
        "\n",
        "There are many ways to do this exercise. Hint: One way is to loop through the contents of the file and hold the count in a dictionary where the state is key. Also, keep in mind that data might not be perfect and you might have to do something to it to get accurate counts.\n",
        "\n",
        "**Question 1:** How many customers are in the file?\n",
        "(as help, we have added some comments to help you structure the code)"
      ],
      "metadata": {
        "id": "JQAduY-RWKyB"
      }
    },
    {
      "cell_type": "code",
      "source": [
        "from os.path import exists\n",
        "import csv\n",
        "\n",
        "# check if file can be found and open the file\n",
        "datafile = \"./sample_data/customers.csv\"\n",
        "if not exists(datafile):\n",
        "  raise SystemExit(\"You should run the first code cell and download the dataset files!\")\n",
        "\n",
        "# customers file is in the sample_data folder and can be opened.\n",
        "# Using csv reader is one way of dealing with the file \n",
        "# but it's up to you how you want to proceed\n",
        "with open(datafile, 'r') as fl:\n",
        "  csvreader = csv.reader(fl, delimiter=',')\n",
        "\n",
        "  # loop through the rows and count etc. THE REST IS UP TO YOU!\n",
        "\n",
        "\n",
        "print(\"All done!\")"
      ],
      "metadata": {
        "id": "oMnUFBFb2RUb",
        "colab": {
          "base_uri": "https://localhost:8080/"
        },
        "outputId": "043f201e-c306-47d9-995b-bc4b1fda4449"
      },
      "execution_count": 6,
      "outputs": [
        {
          "output_type": "stream",
          "name": "stdout",
          "text": [
            "All done!\n"
          ]
        }
      ]
    },
    {
      "cell_type": "markdown",
      "source": [
        "**Question 2:** In how many different states do the customers live in?"
      ],
      "metadata": {
        "id": "uffBnNgz_570"
      }
    },
    {
      "cell_type": "code",
      "source": [
        "# open file and init vars\n",
        "# evaluate the contents of the file"
      ],
      "metadata": {
        "id": "Bi_yid0sMe3-"
      },
      "execution_count": null,
      "outputs": []
    },
    {
      "cell_type": "markdown",
      "source": [
        "**Question 3** What is the state with most customers?"
      ],
      "metadata": {
        "id": "DC59SZYiMfNY"
      }
    },
    {
      "cell_type": "code",
      "source": [
        "# open file and init vars\n",
        "# evaluate the contents of the file"
      ],
      "metadata": {
        "id": "tfGU3w-OMhA9"
      },
      "execution_count": null,
      "outputs": []
    },
    {
      "cell_type": "markdown",
      "source": [
        "\n",
        "**Question 4** What is the state with the least customers?"
      ],
      "metadata": {
        "id": "7mcM6cUAMhLB"
      }
    },
    {
      "cell_type": "code",
      "source": [
        "# open file and init vars\n",
        "# evaluate the contents of the file"
      ],
      "metadata": {
        "id": "8T0Ka2RqMi3P"
      },
      "execution_count": null,
      "outputs": []
    },
    {
      "cell_type": "markdown",
      "source": [
        ""
      ],
      "metadata": {
        "id": "8FO7OtFrMi_i"
      }
    },
    {
      "cell_type": "code",
      "source": [
        "# open file and init vars\n",
        "# evaluate the contents of the file"
      ],
      "metadata": {
        "id": "ohcjgN0ABvDE"
      },
      "execution_count": null,
      "outputs": []
    },
    {
      "cell_type": "markdown",
      "source": [
        "**Question 5:** What is the most common last name?"
      ],
      "metadata": {
        "id": "h6fIy7hXHF6A"
      }
    },
    {
      "cell_type": "code",
      "source": [
        "# open file and init vars\n",
        "# evaluate the contents of the file"
      ],
      "metadata": {
        "id": "k8M1DmA75Km7"
      },
      "execution_count": null,
      "outputs": []
    },
    {
      "cell_type": "markdown",
      "source": [
        "# Orders\n",
        "\n",
        "The second sample files contains orders placed by customers from the first file. Becareful, this file has quite a few rows and you most likely should not print the contents of the whole file. The file contains the following columns:\n",
        "\n",
        "**CustomerID, OrderID, Date, OrderTotal, ProductName, Price**\n",
        "\n",
        "Hint: You should take a look at the data before doing any work.\n",
        "\n",
        "\n",
        "\n",
        "**Question #1:** How many unique orders are in the orders.csv file?\n",
        "\n",
        "**Question #2:** What is the average number of items per order (rounded to two decimal places)?\n",
        "\n",
        "**Question #3:** What is the highest number of items per order?\n",
        "\n",
        "**Question #4:** What is the number of orders placed in October 2021?\n",
        "\n",
        "**Question #5:** Which customer spent the most amount of money in 2021?\n",
        "\n",
        "**Question #6:** Historically, what is the best month for sales?\n",
        "\n",
        "The main reason all the questions have been asked upfront is that dealing with orders is more complicated that just the customers file. It would make sense to plan it out how to best get the data and perhaps there is a need to write some utility functions.\n",
        "\n",
        "But, like always, there are many ways to do this, some more correct than other, and ultimatelly the only thing that counts are the results.\n",
        "\n",
        "Hint: Please review Chapter 5 and 6 from the [python3_crash_course notebook](https://colab.research.google.com/github/anyoneai/notebooks/blob/main/python3_crash_course.ipynb) as this might need: lists, dictionaries, sorting and list slicing. Additional documentation on lists and dictionairies can be found in the [here](https://docs.python.org/3/tutorial/datastructures.html). \n",
        "\n",
        "And, yes, this is a big ask and for anyone with any knowledge of sql or pandas this would be trivial, but solving this puzzle without advanced tools will prove your ability to break down problems, thinking out of the box and overcoming challanges."
      ],
      "metadata": {
        "id": "YPRma1t9NoFk"
      }
    },
    {
      "cell_type": "code",
      "source": [
        "# open and evaluate orders.csv"
      ],
      "metadata": {
        "id": "8ipJTrfs5QVM"
      },
      "execution_count": null,
      "outputs": []
    },
    {
      "cell_type": "markdown",
      "source": [
        "# Finished!\n",
        "\n",
        "Hope this was not too difficult and slicing and dicing the datasets was some fun. Now head on back to the course and provide the answers to the questions from this excerisize."
      ],
      "metadata": {
        "id": "ie0JW4FAk6Os"
      }
    }
  ]
}