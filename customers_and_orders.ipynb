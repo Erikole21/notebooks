{
  "nbformat": 4,
  "nbformat_minor": 0,
  "metadata": {
    "colab": {
      "name": "customers_and_orders.ipynb",
      "provenance": [],
      "collapsed_sections": [],
      "authorship_tag": "ABX9TyM3jLypkDuj2xI9siV2zQjA",
      "include_colab_link": true
    },
    "kernelspec": {
      "name": "python3",
      "display_name": "Python 3"
    },
    "language_info": {
      "name": "python"
    }
  },
  "cells": [
    {
      "cell_type": "markdown",
      "metadata": {
        "id": "view-in-github",
        "colab_type": "text"
      },
      "source": [
        "<a href=\"https://colab.research.google.com/github/anyoneai/notebooks/blob/main/customers_and_orders.ipynb\" target=\"_parent\"><img src=\"https://colab.research.google.com/assets/colab-badge.svg\" alt=\"Open In Colab\"/></a>"
      ]
    },
    {
      "cell_type": "markdown",
      "source": [
        "# Custiomers and Orders - The lifeblood of any business!\n",
        "\n",
        "This notebook depends on two data files: customers.scv and orders.csv. These files are hosted in github and, for simplicify, code to download and save the two files in the 'sample_data' folder is below.\n",
        "\n",
        "Please execute the first code cell before moving to the rest of the exercise.\n",
        "\n",
        "Also, be default the notebook has been opend in colab in \"read only\" mode. If you would like to persist your changes and code, please save it to your Google Drive by going to File/Save a Copy In Drive in the menu."
      ],
      "metadata": {
        "id": "piiX_CRNFYUi"
      }
    },
    {
      "cell_type": "code",
      "execution_count": null,
      "metadata": {
        "id": "MWpVO242FQHC"
      },
      "outputs": [],
      "source": [
        "import requests\n",
        "\n",
        "def import_data_files():\n",
        "  r = requests.get('https://raw.githubusercontent.com/anyoneai/notebooks/main/customers_and_orders/data/customers.csv')\n",
        "  with open('./sample_data/customers.csv', 'wb') as f:\n",
        "    f.write(r.content)\n",
        "\n",
        "  r = requests.get('https://raw.githubusercontent.com/anyoneai/notebooks/main/customers_and_orders/data/orders.csv')\n",
        "  with open('./sample_data/orders.csv', 'wb') as f:\n",
        "    f.write(r.content)\n",
        "  \n",
        "import_data_files()\n",
        "print(\"Customers and orders CSV files have been added './sample_data'\")"
      ]
    },
    {
      "cell_type": "markdown",
      "source": [
        "# Customers\n",
        "\n",
        "The sample customer data in 'customers.csv' file has just 5 columns: CustomerId, First Name, Last Name, City and State\n",
        "\n",
        "As a first exercise, write some code to open the file and read the contents. Please refer to Section 9 in the [python3_crash_course notebook](https://colab.research.google.com/github/anyoneai/notebooks/blob/main/python3_crash_course.ipynb) if you need help.\n",
        "\n",
        "**Question 1:** How many customers are in the file?\n",
        "(as help, we have added some comments to help you structure the code)"
      ],
      "metadata": {
        "id": "JQAduY-RWKyB"
      }
    },
    {
      "cell_type": "code",
      "source": [
        "# open file\n",
        "\n",
        "# loop through the rows and count\n",
        "\n",
        "# print the number of rows"
      ],
      "metadata": {
        "id": "oMnUFBFb2RUb"
      },
      "execution_count": null,
      "outputs": []
    },
    {
      "cell_type": "markdown",
      "source": [
        "**Question 2:** In how many different states do the customers live in?\n",
        "\n",
        "**Question 3** What is the state with most customers?\n",
        "\n",
        "**Question 4** What is the state with the least customers?\n",
        "\n",
        "\n",
        "There are many ways to do this exercise. Hint: One way is to loop through the contents of the file and hold the count in a dictionary where the state is key. Also, keep in mind that data might not be perfect and you might have to do something to it to get accurate counts."
      ],
      "metadata": {
        "id": "uffBnNgz_570"
      }
    },
    {
      "cell_type": "code",
      "source": [
        "# open file and init vars\n",
        "\n",
        "# evaluate the contents of the file\n",
        "\n",
        "# print results\n",
        "# print how many states found\n",
        "# print how many customer per each state "
      ],
      "metadata": {
        "id": "ohcjgN0ABvDE"
      },
      "execution_count": null,
      "outputs": []
    },
    {
      "cell_type": "markdown",
      "source": [
        "**Question 5:** What is the most common last name?"
      ],
      "metadata": {
        "id": "h6fIy7hXHF6A"
      }
    },
    {
      "cell_type": "code",
      "source": [
        "# it's a rehash of the previous exercise \n",
        "# but there are too many names in the data set to just eye ball the array\n",
        "# so most likely this will require storing highest count/name combo or counting\n",
        "# sorting the data"
      ],
      "metadata": {
        "id": "fUWWanBQKYDY"
      },
      "execution_count": null,
      "outputs": []
    }
  ]
}