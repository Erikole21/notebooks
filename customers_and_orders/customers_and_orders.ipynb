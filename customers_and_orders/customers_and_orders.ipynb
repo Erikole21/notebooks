{
  "nbformat": 4,
  "nbformat_minor": 0,
  "metadata": {
    "colab": {
      "name": "customers_and_orders.ipynb",
      "provenance": [],
      "collapsed_sections": [],
      "authorship_tag": "ABX9TyOOswTc5t9nay5NQkCspwDM",
      "include_colab_link": true
    },
    "kernelspec": {
      "name": "python3",
      "display_name": "Python 3"
    },
    "language_info": {
      "name": "python"
    }
  },
  "cells": [
    {
      "cell_type": "markdown",
      "metadata": {
        "id": "view-in-github",
        "colab_type": "text"
      },
      "source": [
        "<a href=\"https://colab.research.google.com/github/anyoneai/notebooks/blob/main/customers_and_orders.ipynb\" target=\"_parent\"><img src=\"https://colab.research.google.com/assets/colab-badge.svg\" alt=\"Open In Colab\"/></a>"
      ]
    },
    {
      "cell_type": "markdown",
      "source": [
        "# Custiomers and Orders - The lifeblood of any business!\n",
        "\n",
        "This notebook depends on two data files: customers.scv and orders.csv. These files are hosted in github and, for simplicify, code to download and save the two files in the 'sample_data' folder is below.\n",
        "\n",
        "Please execute the first code cell before moving to the rest of the exercise.\n",
        "\n",
        "Also, be default the notebook has been opend in colab in \"read only\" mode. If you would like to persist your changes and code, please save it to your Google Drive by going to File/Save a Copy In Drive in the menu."
      ],
      "metadata": {
        "id": "piiX_CRNFYUi"
      }
    },
    {
      "cell_type": "code",
      "execution_count": null,
      "metadata": {
        "id": "MWpVO242FQHC",
        "outputId": "16eb662f-2315-40d6-a3b4-dc4a1e3b0e98",
        "colab": {
          "base_uri": "https://localhost:8080/"
        }
      },
      "outputs": [
        {
          "output_type": "stream",
          "name": "stdout",
          "text": [
            "Customers and orders CSV files have been added './sample_data'\n"
          ]
        }
      ],
      "source": [
        "import requests\n",
        "\n",
        "def import_data_files():\n",
        "  r = requests.get('https://raw.githubusercontent.com/anyoneai/notebooks/main/customers_and_orders/data/customers.csv')\n",
        "  with open('./sample_data/customers.csv', 'wb') as f:\n",
        "    f.write(r.content)\n",
        "\n",
        "  r = requests.get('https://raw.githubusercontent.com/anyoneai/notebooks/main/customers_and_orders/data/orders.csv')\n",
        "  with open('./sample_data/orders.csv', 'wb') as f:\n",
        "    f.write(r.content)\n",
        "  \n",
        "import_data_files()\n",
        "print(\"Customers and orders CSV files have been added './sample_data'\")"
      ]
    },
    {
      "cell_type": "markdown",
      "source": [
        "# Customers\n",
        "\n",
        "The sample customer data in 'customers.csv' file has just 5 columns: CustomerId, First Name, Last Name, City and State\n",
        "\n",
        "As a first exercise, write some code to open the file and read the contents. Please refer to Section 9 in the [python3_crash_course notebook](https://colab.research.google.com/github/anyoneai/notebooks/blob/main/python3_crash_course.ipynb) if you need help.\n",
        "\n",
        "**Question 1:** How many customers are in the file?\n",
        "(as help, we have added some comments to help you structure the code)"
      ],
      "metadata": {
        "id": "JQAduY-RWKyB"
      }
    },
    {
      "cell_type": "code",
      "source": [
        "# open file\n",
        "\n",
        "# loop through the rows and count\n",
        "\n",
        "# print the number of rows"
      ],
      "metadata": {
        "id": "oMnUFBFb2RUb"
      },
      "execution_count": null,
      "outputs": []
    },
    {
      "cell_type": "markdown",
      "source": [
        "**Question 2:** In how many different states do the customers live in?\n",
        "\n",
        "**Question 3** What is the state with most customers?\n",
        "\n",
        "**Question 4** What is the state with the least customers?\n",
        "\n",
        "\n",
        "There are many ways to do this exercise. Hint: One way is to loop through the contents of the file and hold the count in a dictionary where the state is key. Also, keep in mind that data might not be perfect and you might have to do something to it to get accurate counts."
      ],
      "metadata": {
        "id": "uffBnNgz_570"
      }
    },
    {
      "cell_type": "code",
      "source": [
        "# open file and init vars\n",
        "\n",
        "# evaluate the contents of the file\n",
        "\n",
        "# print results\n",
        "# print how many states found\n",
        "# print how many customer per each state "
      ],
      "metadata": {
        "id": "ohcjgN0ABvDE"
      },
      "execution_count": null,
      "outputs": []
    },
    {
      "cell_type": "markdown",
      "source": [
        "**Question 5:** What is the most common last name?"
      ],
      "metadata": {
        "id": "h6fIy7hXHF6A"
      }
    },
    {
      "cell_type": "code",
      "source": [
        "# print results"
      ],
      "metadata": {
        "id": "k8M1DmA75Km7"
      },
      "execution_count": null,
      "outputs": []
    },
    {
      "cell_type": "markdown",
      "source": [
        "# Orders\n",
        "\n",
        "The second sample files contains orders placed by customers from the first file. Becareful, this file has quite a few rows and you most likely should not print the contents of the whole file. The file contains the following columns:\n",
        "\n",
        "**CustomerID, OrderID, Date, OrderTotal, ProductName, Price**\n",
        "\n",
        "Hint: You should take a look at the data before doing any work.\n",
        "\n",
        "\n",
        "\n",
        "**Question #1:** How many unique orders are in the orders.csv file?\n",
        "\n",
        "**Question #2:** What is the average number of items per order (rounded to two decimal places)?\n",
        "\n",
        "**Question #3:** What is the highest number of items per order?\n",
        "\n",
        "**Question #4:** What is the number of orders placed in October 2021?\n",
        "\n",
        "**Question #5:** Which customer spent the most amount of money in 2021?\n",
        "\n",
        "**Question #6:** Historically, what is the best month for sales?\n",
        "\n",
        "The main reason all the questions have been asked upfront is that dealing with orders is more complicated that just the customers file. It would make sense to plan it out how to best get the data and perhaps there is a need to write some utility functions.\n",
        "\n",
        "But, like always, there are many ways to do this, some more correct than other, and ultimatelly the only thing that counts are the results.\n",
        "\n",
        "Hint: Please review Chapter 5 from the [python3_crash_course notebook](https://colab.research.google.com/github/anyoneai/notebooks/blob/main/python3_crash_course.ipynb) as this might need: lists, dictionaries, sorting and list slicing. Additional documentation on lists and dictionairies can be found in the [here](https://docs.python.org/3/tutorial/datastructures.html). \n",
        "\n",
        "And, yes, this is a big ask and for anyone with any knowledge of sql or pandas this would be trivial, but solving this puzzle without advanced tools will prove your ability to break down problems, thinking out of the box and overcoming challanges."
      ],
      "metadata": {
        "id": "YPRma1t9NoFk"
      }
    },
    {
      "cell_type": "code",
      "source": [
        "# open and evaluate orders.csv"
      ],
      "metadata": {
        "id": "8ipJTrfs5QVM"
      },
      "execution_count": null,
      "outputs": []
    },
    {
      "cell_type": "markdown",
      "source": [
        "# Finished!\n",
        "\n",
        "Hope this was not too difficult and slicing and dicing the datasets was some fun. Now head on back to the course and provide the answers to the questions from this excerisize."
      ],
      "metadata": {
        "id": "ie0JW4FAk6Os"
      }
    }
  ]
}